{
 "cells": [
  {
   "cell_type": "markdown",
   "id": "3614187a-9cce-4922-a49e-1fce489197e4",
   "metadata": {},
   "source": [
    "## Step 1: Importing Libraries and Loading Data"
   ]
  },
  {
   "cell_type": "code",
   "execution_count": 1,
   "id": "2c50540c-320a-4aed-b639-ea4d339ad726",
   "metadata": {},
   "outputs": [],
   "source": [
    "import numpy as np\n",
    "import numpy.linalg as mat\n",
    "import pandas as pd\n",
    "import statsmodels.api as sm\n",
    "from sklearn.preprocessing import LabelEncoder, StandardScaler\n",
    "from statsmodels.datasets import get_rdataset\n",
    "from statsmodels.stats.outliers_influence import variance_inflation_factor\n",
    "import seaborn as sns\n",
    "import matplotlib.pyplot as plt\n",
    "import warnings\n",
    "warnings.filterwarnings('ignore')\n",
    "from statsmodels.stats.anova import anova_lm"
   ]
  },
  {
   "cell_type": "code",
   "execution_count": 2,
   "id": "b4d3e48d-7dbd-46b8-aaad-f2b8407012ba",
   "metadata": {},
   "outputs": [
    {
     "data": {
      "text/html": [
       "<div>\n",
       "<style scoped>\n",
       "    .dataframe tbody tr th:only-of-type {\n",
       "        vertical-align: middle;\n",
       "    }\n",
       "\n",
       "    .dataframe tbody tr th {\n",
       "        vertical-align: top;\n",
       "    }\n",
       "\n",
       "    .dataframe thead th {\n",
       "        text-align: right;\n",
       "    }\n",
       "</style>\n",
       "<table border=\"1\" class=\"dataframe\">\n",
       "  <thead>\n",
       "    <tr style=\"text-align: right;\">\n",
       "      <th></th>\n",
       "      <th>mpg</th>\n",
       "      <th>cylinders</th>\n",
       "      <th>displacement</th>\n",
       "      <th>horsepower</th>\n",
       "      <th>weight</th>\n",
       "      <th>acceleration</th>\n",
       "      <th>model_year</th>\n",
       "      <th>origin</th>\n",
       "      <th>name</th>\n",
       "    </tr>\n",
       "  </thead>\n",
       "  <tbody>\n",
       "    <tr>\n",
       "      <th>0</th>\n",
       "      <td>18.0</td>\n",
       "      <td>8</td>\n",
       "      <td>307.0</td>\n",
       "      <td>130.0</td>\n",
       "      <td>3504</td>\n",
       "      <td>12.0</td>\n",
       "      <td>70</td>\n",
       "      <td>usa</td>\n",
       "      <td>chevrolet chevelle malibu</td>\n",
       "    </tr>\n",
       "    <tr>\n",
       "      <th>1</th>\n",
       "      <td>15.0</td>\n",
       "      <td>8</td>\n",
       "      <td>350.0</td>\n",
       "      <td>165.0</td>\n",
       "      <td>3693</td>\n",
       "      <td>11.5</td>\n",
       "      <td>70</td>\n",
       "      <td>usa</td>\n",
       "      <td>buick skylark 320</td>\n",
       "    </tr>\n",
       "    <tr>\n",
       "      <th>2</th>\n",
       "      <td>18.0</td>\n",
       "      <td>8</td>\n",
       "      <td>318.0</td>\n",
       "      <td>150.0</td>\n",
       "      <td>3436</td>\n",
       "      <td>11.0</td>\n",
       "      <td>70</td>\n",
       "      <td>usa</td>\n",
       "      <td>plymouth satellite</td>\n",
       "    </tr>\n",
       "    <tr>\n",
       "      <th>3</th>\n",
       "      <td>16.0</td>\n",
       "      <td>8</td>\n",
       "      <td>304.0</td>\n",
       "      <td>150.0</td>\n",
       "      <td>3433</td>\n",
       "      <td>12.0</td>\n",
       "      <td>70</td>\n",
       "      <td>usa</td>\n",
       "      <td>amc rebel sst</td>\n",
       "    </tr>\n",
       "    <tr>\n",
       "      <th>4</th>\n",
       "      <td>17.0</td>\n",
       "      <td>8</td>\n",
       "      <td>302.0</td>\n",
       "      <td>140.0</td>\n",
       "      <td>3449</td>\n",
       "      <td>10.5</td>\n",
       "      <td>70</td>\n",
       "      <td>usa</td>\n",
       "      <td>ford torino</td>\n",
       "    </tr>\n",
       "  </tbody>\n",
       "</table>\n",
       "</div>"
      ],
      "text/plain": [
       "    mpg  cylinders  displacement  horsepower  weight  acceleration  \\\n",
       "0  18.0          8         307.0       130.0    3504          12.0   \n",
       "1  15.0          8         350.0       165.0    3693          11.5   \n",
       "2  18.0          8         318.0       150.0    3436          11.0   \n",
       "3  16.0          8         304.0       150.0    3433          12.0   \n",
       "4  17.0          8         302.0       140.0    3449          10.5   \n",
       "\n",
       "   model_year origin                       name  \n",
       "0          70    usa  chevrolet chevelle malibu  \n",
       "1          70    usa          buick skylark 320  \n",
       "2          70    usa         plymouth satellite  \n",
       "3          70    usa              amc rebel sst  \n",
       "4          70    usa                ford torino  "
      ]
     },
     "execution_count": 2,
     "metadata": {},
     "output_type": "execute_result"
    }
   ],
   "source": [
    "## Loading the Auto MPG dataset\n",
    "data = sns.load_dataset('mpg')\n",
    "\n",
    "## Extracting the first few rows\n",
    "data.head()"
   ]
  },
  {
   "cell_type": "markdown",
   "id": "167bbffa-014c-4670-913d-485f593f4d24",
   "metadata": {},
   "source": [
    "## Step 2: Data Preprocessing"
   ]
  },
  {
   "cell_type": "code",
   "execution_count": 3,
   "id": "b62e8600-b4ea-48d9-9a0f-16954fbc55d3",
   "metadata": {},
   "outputs": [
    {
     "data": {
      "text/html": [
       "<div>\n",
       "<style scoped>\n",
       "    .dataframe tbody tr th:only-of-type {\n",
       "        vertical-align: middle;\n",
       "    }\n",
       "\n",
       "    .dataframe tbody tr th {\n",
       "        vertical-align: top;\n",
       "    }\n",
       "\n",
       "    .dataframe thead th {\n",
       "        text-align: right;\n",
       "    }\n",
       "</style>\n",
       "<table border=\"1\" class=\"dataframe\">\n",
       "  <thead>\n",
       "    <tr style=\"text-align: right;\">\n",
       "      <th></th>\n",
       "      <th>mpg</th>\n",
       "      <th>cylinders</th>\n",
       "      <th>displacement</th>\n",
       "      <th>horsepower</th>\n",
       "      <th>weight</th>\n",
       "      <th>acceleration</th>\n",
       "      <th>model_year</th>\n",
       "      <th>origin</th>\n",
       "      <th>name</th>\n",
       "    </tr>\n",
       "  </thead>\n",
       "  <tbody>\n",
       "    <tr>\n",
       "      <th>0</th>\n",
       "      <td>18.0</td>\n",
       "      <td>8</td>\n",
       "      <td>307.0</td>\n",
       "      <td>130.0</td>\n",
       "      <td>3504</td>\n",
       "      <td>12.0</td>\n",
       "      <td>70</td>\n",
       "      <td>usa</td>\n",
       "      <td>chevrolet chevelle malibu</td>\n",
       "    </tr>\n",
       "    <tr>\n",
       "      <th>1</th>\n",
       "      <td>15.0</td>\n",
       "      <td>8</td>\n",
       "      <td>350.0</td>\n",
       "      <td>165.0</td>\n",
       "      <td>3693</td>\n",
       "      <td>11.5</td>\n",
       "      <td>70</td>\n",
       "      <td>usa</td>\n",
       "      <td>buick skylark 320</td>\n",
       "    </tr>\n",
       "    <tr>\n",
       "      <th>2</th>\n",
       "      <td>18.0</td>\n",
       "      <td>8</td>\n",
       "      <td>318.0</td>\n",
       "      <td>150.0</td>\n",
       "      <td>3436</td>\n",
       "      <td>11.0</td>\n",
       "      <td>70</td>\n",
       "      <td>usa</td>\n",
       "      <td>plymouth satellite</td>\n",
       "    </tr>\n",
       "    <tr>\n",
       "      <th>3</th>\n",
       "      <td>16.0</td>\n",
       "      <td>8</td>\n",
       "      <td>304.0</td>\n",
       "      <td>150.0</td>\n",
       "      <td>3433</td>\n",
       "      <td>12.0</td>\n",
       "      <td>70</td>\n",
       "      <td>usa</td>\n",
       "      <td>amc rebel sst</td>\n",
       "    </tr>\n",
       "    <tr>\n",
       "      <th>4</th>\n",
       "      <td>17.0</td>\n",
       "      <td>8</td>\n",
       "      <td>302.0</td>\n",
       "      <td>140.0</td>\n",
       "      <td>3449</td>\n",
       "      <td>10.5</td>\n",
       "      <td>70</td>\n",
       "      <td>usa</td>\n",
       "      <td>ford torino</td>\n",
       "    </tr>\n",
       "  </tbody>\n",
       "</table>\n",
       "</div>"
      ],
      "text/plain": [
       "    mpg  cylinders  displacement  horsepower  weight  acceleration  \\\n",
       "0  18.0          8         307.0       130.0    3504          12.0   \n",
       "1  15.0          8         350.0       165.0    3693          11.5   \n",
       "2  18.0          8         318.0       150.0    3436          11.0   \n",
       "3  16.0          8         304.0       150.0    3433          12.0   \n",
       "4  17.0          8         302.0       140.0    3449          10.5   \n",
       "\n",
       "   model_year origin                       name  \n",
       "0          70    usa  chevrolet chevelle malibu  \n",
       "1          70    usa          buick skylark 320  \n",
       "2          70    usa         plymouth satellite  \n",
       "3          70    usa              amc rebel sst  \n",
       "4          70    usa                ford torino  "
      ]
     },
     "execution_count": 3,
     "metadata": {},
     "output_type": "execute_result"
    }
   ],
   "source": [
    "## Dropping rows with missing values\n",
    "data = data.dropna()\n",
    "data.head()\n"
   ]
  },
  {
   "cell_type": "code",
   "execution_count": 4,
   "id": "96545d3a-1eb8-4e89-a14f-eb7529883b39",
   "metadata": {},
   "outputs": [
    {
     "data": {
      "text/html": [
       "<div>\n",
       "<style scoped>\n",
       "    .dataframe tbody tr th:only-of-type {\n",
       "        vertical-align: middle;\n",
       "    }\n",
       "\n",
       "    .dataframe tbody tr th {\n",
       "        vertical-align: top;\n",
       "    }\n",
       "\n",
       "    .dataframe thead th {\n",
       "        text-align: right;\n",
       "    }\n",
       "</style>\n",
       "<table border=\"1\" class=\"dataframe\">\n",
       "  <thead>\n",
       "    <tr style=\"text-align: right;\">\n",
       "      <th></th>\n",
       "      <th>mpg</th>\n",
       "      <th>cylinders</th>\n",
       "      <th>displacement</th>\n",
       "      <th>horsepower</th>\n",
       "      <th>weight</th>\n",
       "      <th>acceleration</th>\n",
       "      <th>origin</th>\n",
       "      <th>name</th>\n",
       "      <th>model year</th>\n",
       "    </tr>\n",
       "  </thead>\n",
       "  <tbody>\n",
       "    <tr>\n",
       "      <th>0</th>\n",
       "      <td>18.0</td>\n",
       "      <td>4</td>\n",
       "      <td>307.0</td>\n",
       "      <td>130.0</td>\n",
       "      <td>3504</td>\n",
       "      <td>12.0</td>\n",
       "      <td>2</td>\n",
       "      <td>chevrolet chevelle malibu</td>\n",
       "      <td>0</td>\n",
       "    </tr>\n",
       "    <tr>\n",
       "      <th>1</th>\n",
       "      <td>15.0</td>\n",
       "      <td>4</td>\n",
       "      <td>350.0</td>\n",
       "      <td>165.0</td>\n",
       "      <td>3693</td>\n",
       "      <td>11.5</td>\n",
       "      <td>2</td>\n",
       "      <td>buick skylark 320</td>\n",
       "      <td>0</td>\n",
       "    </tr>\n",
       "    <tr>\n",
       "      <th>2</th>\n",
       "      <td>18.0</td>\n",
       "      <td>4</td>\n",
       "      <td>318.0</td>\n",
       "      <td>150.0</td>\n",
       "      <td>3436</td>\n",
       "      <td>11.0</td>\n",
       "      <td>2</td>\n",
       "      <td>plymouth satellite</td>\n",
       "      <td>0</td>\n",
       "    </tr>\n",
       "    <tr>\n",
       "      <th>3</th>\n",
       "      <td>16.0</td>\n",
       "      <td>4</td>\n",
       "      <td>304.0</td>\n",
       "      <td>150.0</td>\n",
       "      <td>3433</td>\n",
       "      <td>12.0</td>\n",
       "      <td>2</td>\n",
       "      <td>amc rebel sst</td>\n",
       "      <td>0</td>\n",
       "    </tr>\n",
       "    <tr>\n",
       "      <th>4</th>\n",
       "      <td>17.0</td>\n",
       "      <td>4</td>\n",
       "      <td>302.0</td>\n",
       "      <td>140.0</td>\n",
       "      <td>3449</td>\n",
       "      <td>10.5</td>\n",
       "      <td>2</td>\n",
       "      <td>ford torino</td>\n",
       "      <td>0</td>\n",
       "    </tr>\n",
       "  </tbody>\n",
       "</table>\n",
       "</div>"
      ],
      "text/plain": [
       "    mpg  cylinders  displacement  horsepower  weight  acceleration  origin  \\\n",
       "0  18.0          4         307.0       130.0    3504          12.0       2   \n",
       "1  15.0          4         350.0       165.0    3693          11.5       2   \n",
       "2  18.0          4         318.0       150.0    3436          11.0       2   \n",
       "3  16.0          4         304.0       150.0    3433          12.0       2   \n",
       "4  17.0          4         302.0       140.0    3449          10.5       2   \n",
       "\n",
       "                        name  model year  \n",
       "0  chevrolet chevelle malibu           0  \n",
       "1          buick skylark 320           0  \n",
       "2         plymouth satellite           0  \n",
       "3              amc rebel sst           0  \n",
       "4                ford torino           0  "
      ]
     },
     "execution_count": 4,
     "metadata": {},
     "output_type": "execute_result"
    }
   ],
   "source": [
    "## Label Encoding of the 3 categorical variables\n",
    "\n",
    "## Initializing the LabelEncoder\n",
    "label_encoder = LabelEncoder()\n",
    "\n",
    "## Label encoding the 'cylinders' column\n",
    "data['cylinders'] = label_encoder.fit_transform(data['cylinders'])\n",
    "\n",
    "## Label encoding the 'model_year' column\n",
    "data['model year'] = label_encoder.fit_transform(data['model_year'])\n",
    "\n",
    "## Label encoding the 'origin' column\n",
    "data['origin'] = label_encoder.fit_transform(data['origin'])\n",
    "\n",
    "## Displaying the first few rows of the dataset to check the transformations\n",
    "data.drop('model_year', axis = 1, inplace = True)\n",
    "data.head()"
   ]
  },
  {
   "cell_type": "code",
   "execution_count": 5,
   "id": "c96935ad-33e0-4e13-b9f1-dcfd6fe798ed",
   "metadata": {},
   "outputs": [
    {
     "name": "stdout",
     "output_type": "stream",
     "text": [
      "(392, 7)\n",
      "(392,)\n"
     ]
    },
    {
     "data": {
      "text/html": [
       "<div>\n",
       "<style scoped>\n",
       "    .dataframe tbody tr th:only-of-type {\n",
       "        vertical-align: middle;\n",
       "    }\n",
       "\n",
       "    .dataframe tbody tr th {\n",
       "        vertical-align: top;\n",
       "    }\n",
       "\n",
       "    .dataframe thead th {\n",
       "        text-align: right;\n",
       "    }\n",
       "</style>\n",
       "<table border=\"1\" class=\"dataframe\">\n",
       "  <thead>\n",
       "    <tr style=\"text-align: right;\">\n",
       "      <th></th>\n",
       "      <th>cylinders</th>\n",
       "      <th>displacement</th>\n",
       "      <th>horsepower</th>\n",
       "      <th>weight</th>\n",
       "      <th>acceleration</th>\n",
       "      <th>origin</th>\n",
       "      <th>model year</th>\n",
       "    </tr>\n",
       "  </thead>\n",
       "  <tbody>\n",
       "    <tr>\n",
       "      <th>0</th>\n",
       "      <td>4</td>\n",
       "      <td>307.0</td>\n",
       "      <td>130.0</td>\n",
       "      <td>3504</td>\n",
       "      <td>12.0</td>\n",
       "      <td>2</td>\n",
       "      <td>0</td>\n",
       "    </tr>\n",
       "    <tr>\n",
       "      <th>1</th>\n",
       "      <td>4</td>\n",
       "      <td>350.0</td>\n",
       "      <td>165.0</td>\n",
       "      <td>3693</td>\n",
       "      <td>11.5</td>\n",
       "      <td>2</td>\n",
       "      <td>0</td>\n",
       "    </tr>\n",
       "    <tr>\n",
       "      <th>2</th>\n",
       "      <td>4</td>\n",
       "      <td>318.0</td>\n",
       "      <td>150.0</td>\n",
       "      <td>3436</td>\n",
       "      <td>11.0</td>\n",
       "      <td>2</td>\n",
       "      <td>0</td>\n",
       "    </tr>\n",
       "    <tr>\n",
       "      <th>3</th>\n",
       "      <td>4</td>\n",
       "      <td>304.0</td>\n",
       "      <td>150.0</td>\n",
       "      <td>3433</td>\n",
       "      <td>12.0</td>\n",
       "      <td>2</td>\n",
       "      <td>0</td>\n",
       "    </tr>\n",
       "    <tr>\n",
       "      <th>4</th>\n",
       "      <td>4</td>\n",
       "      <td>302.0</td>\n",
       "      <td>140.0</td>\n",
       "      <td>3449</td>\n",
       "      <td>10.5</td>\n",
       "      <td>2</td>\n",
       "      <td>0</td>\n",
       "    </tr>\n",
       "    <tr>\n",
       "      <th>...</th>\n",
       "      <td>...</td>\n",
       "      <td>...</td>\n",
       "      <td>...</td>\n",
       "      <td>...</td>\n",
       "      <td>...</td>\n",
       "      <td>...</td>\n",
       "      <td>...</td>\n",
       "    </tr>\n",
       "    <tr>\n",
       "      <th>393</th>\n",
       "      <td>1</td>\n",
       "      <td>140.0</td>\n",
       "      <td>86.0</td>\n",
       "      <td>2790</td>\n",
       "      <td>15.6</td>\n",
       "      <td>2</td>\n",
       "      <td>12</td>\n",
       "    </tr>\n",
       "    <tr>\n",
       "      <th>394</th>\n",
       "      <td>1</td>\n",
       "      <td>97.0</td>\n",
       "      <td>52.0</td>\n",
       "      <td>2130</td>\n",
       "      <td>24.6</td>\n",
       "      <td>0</td>\n",
       "      <td>12</td>\n",
       "    </tr>\n",
       "    <tr>\n",
       "      <th>395</th>\n",
       "      <td>1</td>\n",
       "      <td>135.0</td>\n",
       "      <td>84.0</td>\n",
       "      <td>2295</td>\n",
       "      <td>11.6</td>\n",
       "      <td>2</td>\n",
       "      <td>12</td>\n",
       "    </tr>\n",
       "    <tr>\n",
       "      <th>396</th>\n",
       "      <td>1</td>\n",
       "      <td>120.0</td>\n",
       "      <td>79.0</td>\n",
       "      <td>2625</td>\n",
       "      <td>18.6</td>\n",
       "      <td>2</td>\n",
       "      <td>12</td>\n",
       "    </tr>\n",
       "    <tr>\n",
       "      <th>397</th>\n",
       "      <td>1</td>\n",
       "      <td>119.0</td>\n",
       "      <td>82.0</td>\n",
       "      <td>2720</td>\n",
       "      <td>19.4</td>\n",
       "      <td>2</td>\n",
       "      <td>12</td>\n",
       "    </tr>\n",
       "  </tbody>\n",
       "</table>\n",
       "<p>392 rows × 7 columns</p>\n",
       "</div>"
      ],
      "text/plain": [
       "     cylinders  displacement  horsepower  weight  acceleration  origin  \\\n",
       "0            4         307.0       130.0    3504          12.0       2   \n",
       "1            4         350.0       165.0    3693          11.5       2   \n",
       "2            4         318.0       150.0    3436          11.0       2   \n",
       "3            4         304.0       150.0    3433          12.0       2   \n",
       "4            4         302.0       140.0    3449          10.5       2   \n",
       "..         ...           ...         ...     ...           ...     ...   \n",
       "393          1         140.0        86.0    2790          15.6       2   \n",
       "394          1          97.0        52.0    2130          24.6       0   \n",
       "395          1         135.0        84.0    2295          11.6       2   \n",
       "396          1         120.0        79.0    2625          18.6       2   \n",
       "397          1         119.0        82.0    2720          19.4       2   \n",
       "\n",
       "     model year  \n",
       "0             0  \n",
       "1             0  \n",
       "2             0  \n",
       "3             0  \n",
       "4             0  \n",
       "..          ...  \n",
       "393          12  \n",
       "394          12  \n",
       "395          12  \n",
       "396          12  \n",
       "397          12  \n",
       "\n",
       "[392 rows x 7 columns]"
      ]
     },
     "execution_count": 5,
     "metadata": {},
     "output_type": "execute_result"
    }
   ],
   "source": [
    "## Separating the regressors and target variables\n",
    "X = data.drop(['mpg', 'name'], axis = 1)\n",
    "y = data['mpg']\n",
    "print(X.shape)\n",
    "print(y.shape)\n",
    "X"
   ]
  },
  {
   "cell_type": "code",
   "execution_count": 6,
   "id": "89073634-fe5a-40a0-9fb8-b2f0c587351f",
   "metadata": {},
   "outputs": [
    {
     "data": {
      "text/html": [
       "<div>\n",
       "<style scoped>\n",
       "    .dataframe tbody tr th:only-of-type {\n",
       "        vertical-align: middle;\n",
       "    }\n",
       "\n",
       "    .dataframe tbody tr th {\n",
       "        vertical-align: top;\n",
       "    }\n",
       "\n",
       "    .dataframe thead th {\n",
       "        text-align: right;\n",
       "    }\n",
       "</style>\n",
       "<table border=\"1\" class=\"dataframe\">\n",
       "  <thead>\n",
       "    <tr style=\"text-align: right;\">\n",
       "      <th></th>\n",
       "      <th>const</th>\n",
       "      <th>cylinders</th>\n",
       "      <th>displacement</th>\n",
       "      <th>horsepower</th>\n",
       "      <th>weight</th>\n",
       "      <th>acceleration</th>\n",
       "      <th>origin</th>\n",
       "      <th>model year</th>\n",
       "    </tr>\n",
       "  </thead>\n",
       "  <tbody>\n",
       "    <tr>\n",
       "      <th>0</th>\n",
       "      <td>1.0</td>\n",
       "      <td>4</td>\n",
       "      <td>307.0</td>\n",
       "      <td>130.0</td>\n",
       "      <td>3504</td>\n",
       "      <td>12.0</td>\n",
       "      <td>2</td>\n",
       "      <td>0</td>\n",
       "    </tr>\n",
       "    <tr>\n",
       "      <th>1</th>\n",
       "      <td>1.0</td>\n",
       "      <td>4</td>\n",
       "      <td>350.0</td>\n",
       "      <td>165.0</td>\n",
       "      <td>3693</td>\n",
       "      <td>11.5</td>\n",
       "      <td>2</td>\n",
       "      <td>0</td>\n",
       "    </tr>\n",
       "    <tr>\n",
       "      <th>2</th>\n",
       "      <td>1.0</td>\n",
       "      <td>4</td>\n",
       "      <td>318.0</td>\n",
       "      <td>150.0</td>\n",
       "      <td>3436</td>\n",
       "      <td>11.0</td>\n",
       "      <td>2</td>\n",
       "      <td>0</td>\n",
       "    </tr>\n",
       "    <tr>\n",
       "      <th>3</th>\n",
       "      <td>1.0</td>\n",
       "      <td>4</td>\n",
       "      <td>304.0</td>\n",
       "      <td>150.0</td>\n",
       "      <td>3433</td>\n",
       "      <td>12.0</td>\n",
       "      <td>2</td>\n",
       "      <td>0</td>\n",
       "    </tr>\n",
       "    <tr>\n",
       "      <th>4</th>\n",
       "      <td>1.0</td>\n",
       "      <td>4</td>\n",
       "      <td>302.0</td>\n",
       "      <td>140.0</td>\n",
       "      <td>3449</td>\n",
       "      <td>10.5</td>\n",
       "      <td>2</td>\n",
       "      <td>0</td>\n",
       "    </tr>\n",
       "  </tbody>\n",
       "</table>\n",
       "</div>"
      ],
      "text/plain": [
       "   const  cylinders  displacement  horsepower  weight  acceleration  origin  \\\n",
       "0    1.0          4         307.0       130.0    3504          12.0       2   \n",
       "1    1.0          4         350.0       165.0    3693          11.5       2   \n",
       "2    1.0          4         318.0       150.0    3436          11.0       2   \n",
       "3    1.0          4         304.0       150.0    3433          12.0       2   \n",
       "4    1.0          4         302.0       140.0    3449          10.5       2   \n",
       "\n",
       "   model year  \n",
       "0           0  \n",
       "1           0  \n",
       "2           0  \n",
       "3           0  \n",
       "4           0  "
      ]
     },
     "execution_count": 6,
     "metadata": {},
     "output_type": "execute_result"
    }
   ],
   "source": [
    "## Adding a constant(bias term) to the model (intercept term)\n",
    "X_matrix = sm.add_constant(X)\n",
    "X_matrix.head()"
   ]
  },
  {
   "cell_type": "markdown",
   "id": "4044562e-f846-463f-9a50-7de735c67c5d",
   "metadata": {},
   "source": [
    "## Step 3: Fitting the Multiple Linear Regression Model using statsmodel.api"
   ]
  },
  {
   "cell_type": "code",
   "execution_count": 7,
   "id": "3642f3b0-8f07-402b-b22d-ead0132113ee",
   "metadata": {},
   "outputs": [
    {
     "name": "stdout",
     "output_type": "stream",
     "text": [
      "                            OLS Regression Results                            \n",
      "==============================================================================\n",
      "Dep. Variable:                    mpg   R-squared:                       0.824\n",
      "Model:                            OLS   Adj. R-squared:                  0.821\n",
      "Method:                 Least Squares   F-statistic:                     256.6\n",
      "Date:                Fri, 14 Feb 2025   Prob (F-statistic):          1.55e-140\n",
      "Time:                        21:23:42   Log-Likelihood:                -1020.8\n",
      "No. Observations:                 392   AIC:                             2058.\n",
      "Df Residuals:                     384   BIC:                             2089.\n",
      "Df Model:                           7                                         \n",
      "Covariance Type:            nonrobust                                         \n",
      "================================================================================\n",
      "                   coef    std err          t      P>|t|      [0.025      0.975]\n",
      "--------------------------------------------------------------------------------\n",
      "const           38.6030      2.002     19.281      0.000      34.667      42.539\n",
      "cylinders       -1.2069      0.364     -3.318      0.001      -1.922      -0.492\n",
      "displacement     0.0287      0.007      3.950      0.000       0.014       0.043\n",
      "horsepower      -0.0176      0.014     -1.285      0.200      -0.044       0.009\n",
      "weight          -0.0068      0.001    -10.459      0.000      -0.008      -0.006\n",
      "acceleration     0.0758      0.098      0.773      0.440      -0.117       0.269\n",
      "origin          -1.2996      0.283     -4.596      0.000      -1.856      -0.744\n",
      "model year       0.7908      0.051     15.370      0.000       0.690       0.892\n",
      "==============================================================================\n",
      "Omnibus:                       25.404   Durbin-Watson:                   1.293\n",
      "Prob(Omnibus):                  0.000   Jarque-Bera (JB):               37.705\n",
      "Skew:                           0.473   Prob(JB):                     6.49e-09\n",
      "Kurtosis:                       4.189   Cond. No.                     3.73e+04\n",
      "==============================================================================\n",
      "\n",
      "Notes:\n",
      "[1] Standard Errors assume that the covariance matrix of the errors is correctly specified.\n",
      "[2] The condition number is large, 3.73e+04. This might indicate that there are\n",
      "strong multicollinearity or other numerical problems.\n"
     ]
    }
   ],
   "source": [
    "## Fitting the model\n",
    "model = sm.OLS(y, X_matrix).fit()\n",
    "\n",
    "## Summary of the model\n",
    "model_summary = model.summary()\n",
    "print(model_summary)"
   ]
  },
  {
   "cell_type": "markdown",
   "id": "060605ea-0856-49c2-b191-278f10a5d072",
   "metadata": {},
   "source": [
    "## Step 4: Estimation of Parameters"
   ]
  },
  {
   "cell_type": "code",
   "execution_count": 8,
   "id": "18853c08-f5d0-4964-8f7f-33de829398a7",
   "metadata": {},
   "outputs": [
    {
     "name": "stdout",
     "output_type": "stream",
     "text": [
      "Estimated value for Bias: 38.60299876760175\n",
      "Estimated value for regression coefficients:\n",
      "cylinders : -1.2069206014893599\n",
      "displacement : 0.028665897763532382\n",
      "horsepower : -0.017577079701975907\n",
      "weight : -0.006800340337812206\n",
      "acceleration : 0.07584939284497763\n",
      "origin : -1.2995884570682283\n",
      "model year : 0.7908030563291721\n"
     ]
    }
   ],
   "source": [
    "## Estimating the bias and 6 regression coefficients\n",
    "coefficients = model.params\n",
    "print(\"Estimated value for Bias:\", coefficients[0])\n",
    "\n",
    "print(\"Estimated value for regression coefficients:\")\n",
    "for i in range(1, len(coefficients)):\n",
    "    print(X.columns[i-1], \":\", coefficients.iloc[i])"
   ]
  },
  {
   "cell_type": "code",
   "execution_count": 9,
   "id": "e76c95b8-3931-4336-b17c-71d93e221e7e",
   "metadata": {},
   "outputs": [
    {
     "name": "stdout",
     "output_type": "stream",
     "text": [
      "Estimated Error Variance: 10.702397975698263\n"
     ]
    }
   ],
   "source": [
    "## Estimating the error variance\n",
    "residuals = model.resid\n",
    "error_variance = np.var(residuals)\n",
    "print(\"Estimated Error Variance:\", error_variance)"
   ]
  },
  {
   "cell_type": "markdown",
   "id": "db8a0f2a-9278-452f-a343-9d07023c1b6f",
   "metadata": {},
   "source": [
    "## Step 5: Confidence Intervals for Parameters"
   ]
  },
  {
   "cell_type": "code",
   "execution_count": 10,
   "id": "0d5584db-b45f-469e-8033-f2082e96b910",
   "metadata": {},
   "outputs": [
    {
     "name": "stdout",
     "output_type": "stream",
     "text": [
      "Confidence Intervals:                       0          1\n",
      "const         34.666500  42.539497\n",
      "cylinders     -1.922025  -0.491816\n",
      "displacement   0.014397   0.042935\n",
      "horsepower    -0.044470   0.009316\n",
      "weight        -0.008079  -0.005522\n",
      "acceleration  -0.117058   0.268757\n",
      "origin        -1.855584  -0.743592\n",
      "model year     0.689645   0.891961\n"
     ]
    }
   ],
   "source": [
    "conf_int = model.conf_int()\n",
    "print(\"Confidence Intervals:\", conf_int)"
   ]
  },
  {
   "cell_type": "markdown",
   "id": "d71d26ce-2ad9-4ba2-a2a7-9c4a94c174b6",
   "metadata": {},
   "source": [
    "## Step 6: Testing the Significance of Partial Regression Coefficients"
   ]
  },
  {
   "cell_type": "code",
   "execution_count": 11,
   "id": "81c6bb58-f2f0-48be-aa0e-3652e7909d20",
   "metadata": {},
   "outputs": [
    {
     "name": "stdout",
     "output_type": "stream",
     "text": [
      "p-values: const           2.016201e-58\n",
      "cylinders       9.918404e-04\n",
      "displacement    9.297067e-05\n",
      "horsepower      1.995419e-01\n",
      "weight          1.076521e-22\n",
      "acceleration    4.399532e-01\n",
      "origin          5.859371e-06\n",
      "model year      6.853474e-42\n",
      "dtype: float64\n"
     ]
    }
   ],
   "source": [
    "## p-values for coefficients\n",
    "print(\"p-values:\", model.pvalues)"
   ]
  },
  {
   "cell_type": "markdown",
   "id": "9cacf088-4f98-4ba9-84ee-12e47c4b33e3",
   "metadata": {},
   "source": [
    "## Step 7: Detecting the presence of Multicollinearity using 3 different approaches below"
   ]
  },
  {
   "cell_type": "code",
   "execution_count": 12,
   "id": "7c8498ac-5027-4a50-9004-94e90d55581b",
   "metadata": {},
   "outputs": [
    {
     "data": {
      "text/html": [
       "<div>\n",
       "<style scoped>\n",
       "    .dataframe tbody tr th:only-of-type {\n",
       "        vertical-align: middle;\n",
       "    }\n",
       "\n",
       "    .dataframe tbody tr th {\n",
       "        vertical-align: top;\n",
       "    }\n",
       "\n",
       "    .dataframe thead th {\n",
       "        text-align: right;\n",
       "    }\n",
       "</style>\n",
       "<table border=\"1\" class=\"dataframe\">\n",
       "  <thead>\n",
       "    <tr style=\"text-align: right;\">\n",
       "      <th></th>\n",
       "      <th>cylinders</th>\n",
       "      <th>displacement</th>\n",
       "      <th>horsepower</th>\n",
       "      <th>weight</th>\n",
       "      <th>acceleration</th>\n",
       "      <th>origin</th>\n",
       "      <th>model year</th>\n",
       "    </tr>\n",
       "  </thead>\n",
       "  <tbody>\n",
       "    <tr>\n",
       "      <th>cylinders</th>\n",
       "      <td>1.000000</td>\n",
       "      <td>0.933614</td>\n",
       "      <td>0.803459</td>\n",
       "      <td>0.885187</td>\n",
       "      <td>-0.461222</td>\n",
       "      <td>0.572281</td>\n",
       "      <td>-0.331361</td>\n",
       "    </tr>\n",
       "    <tr>\n",
       "      <th>displacement</th>\n",
       "      <td>0.933614</td>\n",
       "      <td>1.000000</td>\n",
       "      <td>0.897257</td>\n",
       "      <td>0.932994</td>\n",
       "      <td>-0.543800</td>\n",
       "      <td>0.594314</td>\n",
       "      <td>-0.369855</td>\n",
       "    </tr>\n",
       "    <tr>\n",
       "      <th>horsepower</th>\n",
       "      <td>0.803459</td>\n",
       "      <td>0.897257</td>\n",
       "      <td>1.000000</td>\n",
       "      <td>0.864538</td>\n",
       "      <td>-0.689196</td>\n",
       "      <td>0.447330</td>\n",
       "      <td>-0.416361</td>\n",
       "    </tr>\n",
       "    <tr>\n",
       "      <th>weight</th>\n",
       "      <td>0.885187</td>\n",
       "      <td>0.932994</td>\n",
       "      <td>0.864538</td>\n",
       "      <td>1.000000</td>\n",
       "      <td>-0.416839</td>\n",
       "      <td>0.521609</td>\n",
       "      <td>-0.309120</td>\n",
       "    </tr>\n",
       "    <tr>\n",
       "      <th>acceleration</th>\n",
       "      <td>-0.461222</td>\n",
       "      <td>-0.543800</td>\n",
       "      <td>-0.689196</td>\n",
       "      <td>-0.416839</td>\n",
       "      <td>1.000000</td>\n",
       "      <td>-0.264409</td>\n",
       "      <td>0.290316</td>\n",
       "    </tr>\n",
       "    <tr>\n",
       "      <th>origin</th>\n",
       "      <td>0.572281</td>\n",
       "      <td>0.594314</td>\n",
       "      <td>0.447330</td>\n",
       "      <td>0.521609</td>\n",
       "      <td>-0.264409</td>\n",
       "      <td>1.000000</td>\n",
       "      <td>-0.066892</td>\n",
       "    </tr>\n",
       "    <tr>\n",
       "      <th>model year</th>\n",
       "      <td>-0.331361</td>\n",
       "      <td>-0.369855</td>\n",
       "      <td>-0.416361</td>\n",
       "      <td>-0.309120</td>\n",
       "      <td>0.290316</td>\n",
       "      <td>-0.066892</td>\n",
       "      <td>1.000000</td>\n",
       "    </tr>\n",
       "  </tbody>\n",
       "</table>\n",
       "</div>"
      ],
      "text/plain": [
       "              cylinders  displacement  horsepower    weight  acceleration  \\\n",
       "cylinders      1.000000      0.933614    0.803459  0.885187     -0.461222   \n",
       "displacement   0.933614      1.000000    0.897257  0.932994     -0.543800   \n",
       "horsepower     0.803459      0.897257    1.000000  0.864538     -0.689196   \n",
       "weight         0.885187      0.932994    0.864538  1.000000     -0.416839   \n",
       "acceleration  -0.461222     -0.543800   -0.689196 -0.416839      1.000000   \n",
       "origin         0.572281      0.594314    0.447330  0.521609     -0.264409   \n",
       "model year    -0.331361     -0.369855   -0.416361 -0.309120      0.290316   \n",
       "\n",
       "                origin  model year  \n",
       "cylinders     0.572281   -0.331361  \n",
       "displacement  0.594314   -0.369855  \n",
       "horsepower    0.447330   -0.416361  \n",
       "weight        0.521609   -0.309120  \n",
       "acceleration -0.264409    0.290316  \n",
       "origin        1.000000   -0.066892  \n",
       "model year   -0.066892    1.000000  "
      ]
     },
     "execution_count": 12,
     "metadata": {},
     "output_type": "execute_result"
    }
   ],
   "source": [
    "## a. Correlation Matrix\n",
    "correlation_matrix = X.corr()\n",
    "correlation_matrix\n"
   ]
  },
  {
   "cell_type": "code",
   "execution_count": 13,
   "id": "f253fd31-5283-42f9-8641-7c21b3b84ae1",
   "metadata": {},
   "outputs": [
    {
     "data": {
      "image/png": "[encoded data removed]",
      "text/plain": [
       "<Figure size 640x480 with 2 Axes>"
      ]
     },
     "metadata": {},
     "output_type": "display_data"
    }
   ],
   "source": [
    "## Plotting the correlation matrix\n",
    "sns.heatmap(correlation_matrix, annot=True, cmap='coolwarm')\n",
    "plt.show()"
   ]
  },
  {
   "cell_type": "code",
   "execution_count": 14,
   "id": "70270dcb-9ea1-47ea-843c-1051c46b1a7f",
   "metadata": {},
   "outputs": [
    {
     "name": "stdout",
     "output_type": "stream",
     "text": [
      "VIF's of each regressors represents the diagonal elements of the inverse of the correlation_matrix: [ 8.38883852 20.63939824  9.91977549 10.91584083  2.62217465  1.70597477\n",
      "  1.28552597]\n"
     ]
    }
   ],
   "source": [
    "## b. Variance Inflation Factor\n",
    "\n",
    "### Computing VIF using correlation matrix\n",
    "C = mat.inv(X.corr())\n",
    "print(\"VIF's of each regressors represents the diagonal elements of the inverse of the correlation_matrix:\", np.diagonal(C))"
   ]
  },
  {
   "cell_type": "code",
   "execution_count": 15,
   "id": "96d3652b-e57f-41e3-b6fa-4fe07fbc0794",
   "metadata": {},
   "outputs": [
    {
     "data": {
      "text/plain": [
       "array([[ 1.        ,  0.93361358,  0.80345896,  0.88518666, -0.46122204,\n",
       "         0.57228105, -0.33136101],\n",
       "       [ 0.93361358,  1.        ,  0.897257  ,  0.9329944 , -0.5438005 ,\n",
       "         0.59431378, -0.36985521],\n",
       "       [ 0.80345896,  0.897257  ,  1.        ,  0.86453774, -0.68919551,\n",
       "         0.44733042, -0.41636148],\n",
       "       [ 0.88518666,  0.9329944 ,  0.86453774,  1.        , -0.4168392 ,\n",
       "         0.52160938, -0.30911988],\n",
       "       [-0.46122204, -0.5438005 , -0.68919551, -0.4168392 ,  1.        ,\n",
       "        -0.26440895,  0.29031611],\n",
       "       [ 0.57228105,  0.59431378,  0.44733042,  0.52160938, -0.26440895,\n",
       "         1.        , -0.0668918 ],\n",
       "       [-0.33136101, -0.36985521, -0.41636148, -0.30911988,  0.29031611,\n",
       "        -0.0668918 ,  1.        ]])"
      ]
     },
     "execution_count": 15,
     "metadata": {},
     "output_type": "execute_result"
    }
   ],
   "source": [
    "### Computing VIF after scaling using Standardscaler\n",
    "scaler = StandardScaler()\n",
    "X_scaled = scaler.fit_transform(X)\n",
    "W = pd.DataFrame(X_scaled)\n",
    "W_transpose_W = np.dot(np.transpose(W), W)/len(X)\n",
    "W_transpose_W\n"
   ]
  },
  {
   "cell_type": "code",
   "execution_count": 16,
   "id": "ff406629-3c3c-46ca-aa37-3bd98e12e36e",
   "metadata": {},
   "outputs": [
    {
     "name": "stdout",
     "output_type": "stream",
     "text": [
      "VIF's are the diagonal elements of the inverse of W_transpose_W: [ 8.38883852 20.63939824  9.91977549 10.91584083  2.62217465  1.70597477\n",
      "  1.28552597]\n"
     ]
    }
   ],
   "source": [
    "print(\"VIF's are the diagonal elements of the inverse of W_transpose_W:\", np.diagonal(mat.inv(W_transpose_W)))"
   ]
  },
  {
   "cell_type": "code",
   "execution_count": 17,
   "id": "42f9a1c6-98ca-4d4f-97f4-0a7a4a258709",
   "metadata": {},
   "outputs": [
    {
     "name": "stdout",
     "output_type": "stream",
     "text": [
      "Condition Number is: 45828228.97950405\n"
     ]
    }
   ],
   "source": [
    "## c. Condition Number\n",
    "A = np.dot(np.transpose(X), X)\n",
    "eigan_values, eigan_vectors = mat.eig(A)\n",
    "Cond_num = max(eigan_values)/min(eigan_values)\n",
    "print(\"Condition Number is:\", Cond_num)"
   ]
  },
  {
   "cell_type": "markdown",
   "id": "99c04714-7638-472d-ab62-baee4926420e",
   "metadata": {},
   "source": [
    "## Step 8: Determining the Condition Indices"
   ]
  },
  {
   "cell_type": "code",
   "execution_count": 18,
   "id": "2a74ada8-83ab-40d8-bb64-0cbe34807cdc",
   "metadata": {},
   "outputs": [
    {
     "name": "stdout",
     "output_type": "stream",
     "text": [
      "The Condition Indices are: [1.0000000e+00 3.0530000e+03 3.2786000e+04 5.8745400e+05 1.1093790e+06\n",
      " 4.5828229e+07 2.7204570e+07]\n"
     ]
    }
   ],
   "source": [
    "print(\"The Condition Indices are:\", np.round(max(eigan_values)/eigan_values))"
   ]
  },
  {
   "cell_type": "markdown",
   "id": "fb4a6c0f-3949-4756-999d-005dd008a08d",
   "metadata": {},
   "source": [
    "## Step 9: Model Adequacy using R-Squared and Adjusted R-Squared"
   ]
  },
  {
   "cell_type": "code",
   "execution_count": 19,
   "id": "e94cdbe0-f339-4fd6-a3b3-10e6227e9156",
   "metadata": {},
   "outputs": [
    {
     "name": "stdout",
     "output_type": "stream",
     "text": [
      "R-squared: 0.8238657728394114\n",
      "Adjusted R-squared: 0.8206549926567965\n"
     ]
    }
   ],
   "source": [
    "r_squared = model.rsquared\n",
    "adj_r_squared = model.rsquared_adj\n",
    "print(\"R-squared:\", r_squared)\n",
    "print(\"Adjusted R-squared:\", adj_r_squared)"
   ]
  }
 ],
 "metadata": {
  "kernelspec": {
   "display_name": "Python 3 (ipykernel)",
   "language": "python",
   "name": "python3"
  },
  "language_info": {
   "codemirror_mode": {
    "name": "ipython",
    "version": 3
   },
   "file_extension": ".py",
   "mimetype": "text/x-python",
   "name": "python",
   "nbconvert_exporter": "python",
   "pygments_lexer": "ipython3",
   "version": "3.12.7"
  }
 },
 "nbformat": 4,
 "nbformat_minor": 5
}
